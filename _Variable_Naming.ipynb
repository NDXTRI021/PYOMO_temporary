{
 "cells": [
  {
   "cell_type": "markdown",
   "metadata": {},
   "source": [
    "# **Variable Naming Conventions**\n",
    "\n",
    "Skip this heading until you're confused about something in the code.\n",
    "\n",
    "## **Modelling:**\n",
    "- **Masses, Lengths, etc:**\n",
    "    - `m1` is the mass of link 1,\n",
    "    - `l1` is the length of link 1,\n",
    "    - `d1` is the distance from the origin of link 1 to the centre of mass of link 1,\n",
    "    - `In1` is the moment of inertia of link 1.\n",
    "    - If it was the 9th link, it'd be `m9`, `l9`, etc.\n",
    "- **Coordinates:**\n",
    "    - `x`,`y`,`th` denote $x$, $y$, $\\theta$ (duh).\n",
    "    - `q` = is the set of generalized coordinates.\n",
    "    - `d` at the start of a variable name means the time derivative (unless it's `d` followed immediately by a number (duh (that's covered above))). For example, `dth1` is $\\dot{\\theta}$)\n",
    "    - Similarly, `dd` is the second time derivative.\n",
    "    - `dr1` is the velocity of the first link's COM. We can omit the `_0` in the variable name since we don't use other reference frames for our velocities.\n",
    "- **Positions:** written as `rn_m` where `n` is the distance from the origin **of the $m^{th}$ reference frame** to the centre of mass of the $n^{th}$ link, and `m` is the reference frame it is being expressed in. Example: `r2_1` means the distance from the origin of the $1^{st}$ reference frame to the $2^{nd}$ link's COM, expressed in the $1^{st}$ reference frame. If you've done Langrangian Dynamics before you might've seen distances expressed in the form $r_{pn}^{m}$ (e.g. $r_{12}^{1}$). This merely leaves out 'p', assuming it to be the origin of the reference frame.\n",
    "- **Energy:**\n",
    "    - `Ek` and `T` refer to kinetic energy (`Ek` is used for the function that returns an element of the kinetic energy, T is used for the variable that holds the total)\n",
    "    - `Ep` and `V` refer to gravitational potential energy (`Ep` for the function, `V` for the variable)\n",
    "- **Forces:**\n",
    "    - In the system space, forces and torques are represented as `F` and `tau` respectively (with `Fx` and `Fy` being the force components in those respective directions).\n",
    "    - **G**round **R**eaction **F**orces were called `GRFx` and `GRFy` for the frictional and normal forces respectively.\n",
    "    - In (a) later tutorial(s), forces/torques were split into the components acting on each link that they affect. For example `tau1_l2` and `tau1_l3` are equal and opposite torques (due to conservation), of magnitude `tau1`, acting on the $2^{nd}$ and $3^{rd}$ links respectively.\n",
    "    - Generalized forces (forces expressed in the general coordinates) are prefixed by `Q`. So, `QF`, `Qtau`, and for the total `Qtot`.\n",
    "- **Lagrangian:**\n",
    "    - Rather than using the mass, coriolis, and gravity matrices, the Lagrangian was broken up into 4 terms (one of which is 0 and therefore not relevant). `Lg1`, `Lg3`, and `Lg4` are the three remaining Lagrangian terms.\n",
    "- **Equations of Motion:** The `EOM` refers to the equations of motion. However, the variable stores an expression rather than an equation---all terms are moved to one side of the '=' sign, so that `EOM[i] = 0 for i in links` is the actual equation).\n",
    "---\n",
    "## **Simulation:**\n",
    "- Variable named ending in `val` are numerical values to be substituted in place of the sympy variables used in the modelling code. E.g. X0val is the numerical value we are substituting `X0` with.\n",
    "- `N` is the total number of timesteps, and `n` is a timestep in the range (1, N+1).\n",
    "- `h` is the length of a timestep (in seconds).\n",
    "---\n",
    "## **Trajectory Optimization:**\n",
    "- **The model:** the model has been simply named `m`. Thus, all model variables are of the form `m.<variable name>`. Example: `m.g` for gravity.\n",
    "- **sym/var lists:** since variables need to be listed on both the Sympy and Pyomo sections of the code, for lambdifying, the Sympy variables were stored in `sym_list` and the Pyomo ones in `var_list`.\n",
    "- **Lambdified stuff:** any lambdified expressions are named `lamb_<something>`. E.g. `lamb_EOM` for the EOMs.\n",
    "- **Timestep:** `m.hm` is the **master** timestep -> the default size of the timestep. We also use `m.h` (in the range (0.8,1.0) as a scaling factor to allow slight variations in the timestep. The actual timestep is therefore `m.hm*m.h[n]` (`m.h` is a set of length `N`, so different timesteps may be of different sizes).\n",
    "- **Positions, Velocities, Integration:** `BwEuler` means backward/implicit Euler integration. `footp` means foot position, `footv` means foot velocity.\n",
    "- **Ground Stuff:**\n",
    "    - `mu` is the coefficient of dynamic friction\n",
    "    - `alpha` is a variable used solely to set the direction in which the frictional force acts.\n",
    "    - `ps` and `ng` mean 'positive' and 'negative' respectively. Velocities are broken up into these two components so that the values are always > 0. `ps` acts means to the right, `ng` means to the left."
   ]
  }
 ],
 "metadata": {
  "kernelspec": {
   "display_name": "Python 3",
   "language": "python",
   "name": "python3"
  },
  "language_info": {
   "codemirror_mode": {
    "name": "ipython",
    "version": 3
   },
   "file_extension": ".py",
   "mimetype": "text/x-python",
   "name": "python",
   "nbconvert_exporter": "python",
   "pygments_lexer": "ipython3",
   "version": "3.8.5"
  }
 },
 "nbformat": 4,
 "nbformat_minor": 4
}
