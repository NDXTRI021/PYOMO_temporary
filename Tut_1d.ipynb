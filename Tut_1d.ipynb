{
 "cells": [
  {
   "cell_type": "markdown",
   "metadata": {},
   "source": [
    "**{DEV}\\[TODO\\]**\n",
    "- everything\n",
    "- get rid of GetXY\n",
    "- work out rotate function"
   ]
  },
  {
   "cell_type": "markdown",
   "metadata": {},
   "source": [
    "---\n",
    "### Chapter 1: System Modelling\n",
    "---\n",
    "# **Tutorial 1.d: Pendulum in 3D**\n",
    "**Aim:**\n",
    "\n",
    "### **Contents**:\n",
    "* [3D Modelling](#3D-Modelling)\n",
    "* [Spherical Pendulum](#Spherical-Pendulum)\n",
    "* [Hinge Pendulum](#Hinge-Pendulum)"
   ]
  },
  {
   "cell_type": "markdown",
   "metadata": {},
   "source": [
    "## **3D Modelling**"
   ]
  },
  {
   "cell_type": "code",
   "execution_count": 1,
   "metadata": {},
   "outputs": [
    {
     "data": {
      "text/html": [
       "<style>.jp-CodeCell.jp-mod-outputsScrolled .jp-Cell-outputArea { max-height: 32em; }</style>"
      ],
      "text/plain": [
       "<IPython.core.display.HTML object>"
      ]
     },
     "metadata": {},
     "output_type": "display_data"
    },
    {
     "data": {
      "text/latex": [
       "$\\displaystyle \\left[\\begin{matrix}\\psi_{1}\\\\\\theta_{1}\\\\\\phi_{1}\\\\\\psi_{2}\\\\\\theta_{2}\\\\\\phi_{2}\\end{matrix}\\right]$"
      ],
      "text/plain": [
       "Matrix([\n",
       "[  \\psi_{1}],\n",
       "[\\theta_{1}],\n",
       "[  \\phi_{1}],\n",
       "[  \\psi_{2}],\n",
       "[\\theta_{2}],\n",
       "[  \\phi_{2}]])"
      ]
     },
     "metadata": {},
     "output_type": "display_data"
    }
   ],
   "source": [
    "# import libraries\n",
    "import sympy as sym\n",
    "import numpy as np\n",
    "import time # for benchmarking different models\n",
    "\n",
    "from IPython.display import display, HTML #for pretty printing\n",
    "display(HTML(\"<style>.jp-CodeCell.jp-mod-outputsScrolled .jp-Cell-outputArea { max-height: 32em; }</style>\"))\n",
    "\n",
    "# define time-logging function for benchmarking\n",
    "def log_time(t_start=None, msg=\"\"):\n",
    "    t_end = time.perf_counter()\n",
    "    if t_start == None:\n",
    "        if msg == \"\": print(\"Timer initialized\")\n",
    "        else: print(msg)\n",
    "    else: print(msg + f\": {t_end - t_start:.6f} sec\")\n",
    "    return t_end\n",
    "\n",
    "# create symbolic variables - Generalized for n-link\n",
    "nlinks = 2\n",
    "links = np.arange(nlinks)\n",
    "\n",
    "# --------------------------------------------------------------------------------------------------------------\n",
    "\n",
    "# system parameters\n",
    "g = sym.symbols('g')\n",
    "\n",
    "m  = [sym.symbols( 'm_{%s}' %(i+1)) for i in links] # mass of links\n",
    "l  = [sym.symbols( 'l_{%s}' %(i+1)) for i in links] # length of links\n",
    "d  = [sym.symbols( 'd_{%s}' %(i+1)) for i in links] # distance to COM of links (from origin)\n",
    "\n",
    "I_psi = [sym.symbols('I_{\\\\psi_{%s}}'   %(i+1)) for i in links] # moment of intertia of links\n",
    "I_th  = [sym.symbols('I_{\\\\theta_{%s}}' %(i+1)) for i in links]\n",
    "I_phi = [sym.symbols('I_{\\\\phi_{%s}}'   %(i+1)) for i in links]\n",
    "\n",
    "# generalized coordinates\n",
    "X0, Y0, Z0 = sym.symbols(['X_{0}','Y_{0}', 'Z_{0}']) # fixed position of first link\n",
    "\n",
    "psi   = [sym.symbols(       '\\\\psi_{%s}' %(i+1)) for i in links] #positions\n",
    "dpsi  = [sym.symbols( '\\dot{\\\\psi}_{%s}' %(i+1)) for i in links] #velocities\n",
    "ddpsi = [sym.symbols('\\ddot{\\\\psi}_{%s}' %(i+1)) for i in links] #accelerations\n",
    "\n",
    "th   = [sym.symbols(       '\\\\theta_{%s}' %(i+1)) for i in links] #positions\n",
    "dth  = [sym.symbols( '\\dot{\\\\theta}_{%s}' %(i+1)) for i in links] #velocities\n",
    "ddth = [sym.symbols('\\ddot{\\\\theta}_{%s}' %(i+1)) for i in links] #accelerations\n",
    "\n",
    "phi   = [sym.symbols(       '\\\\phi_{%s}' %(i+1)) for i in links] #positions\n",
    "dphi  = [sym.symbols( '\\dot{\\\\phi}_{%s}' %(i+1)) for i in links] #velocities\n",
    "ddphi = [sym.symbols('\\ddot{\\\\phi}_{%s}' %(i+1)) for i in links] #accelerations\n",
    "\n",
    "q   = sym.Matrix([[  psi[i],  th[i],  phi[i]] for i in links]) # fixed base so only rotations\n",
    "dq  = sym.Matrix([[ dpsi[i], dth[i], dphi[i]] for i in links])\n",
    "ddq = sym.Matrix([[ddpsi[i],ddth[i],ddphi[i]] for i in links])\n",
    "\n",
    "q   =   q.reshape(q.rows * q.cols, 1)\n",
    "dq  =  dq.reshape(q.rows * q.cols, 1)\n",
    "ddq = ddq.reshape(q.rows * q.cols, 1)\n",
    "\n",
    "display(q)\n",
    "# --------------------------------------------------------------------------------------------------------------\n",
    "\n",
    "# STEP 1: system space coordinates written in terms of the generalised coordinates\n",
    "\n",
    "# helper functions\n",
    "# the 3D system space coordinates are [x;y;z;psi;th;phi].\n",
    "# It is easier to split up the translations and orientations into separate variables in 3D\n",
    "order = ['z','y','x'] # rotation order"
   ]
  },
  {
   "cell_type": "code",
   "execution_count": 26,
   "metadata": {},
   "outputs": [
    {
     "data": {
      "text/latex": [
       "$\\displaystyle \\left[\\begin{matrix}- \\sin{\\left(\\theta_{1} \\right)}\\\\\\sin{\\left(\\phi_{1} \\right)} \\cos{\\left(\\theta_{1} \\right)}\\\\\\cos{\\left(\\phi_{1} \\right)} \\cos{\\left(\\theta_{1} \\right)}\\end{matrix}\\right]$"
      ],
      "text/plain": [
       "Matrix([\n",
       "[             -sin(\\theta_{1})],\n",
       "[sin(\\phi_{1})*cos(\\theta_{1})],\n",
       "[cos(\\phi_{1})*cos(\\theta_{1})]])"
      ]
     },
     "metadata": {},
     "output_type": "display_data"
    },
    {
     "data": {
      "text/latex": [
       "$\\displaystyle \\left[\\begin{matrix}1 & 0 & - \\sin{\\left(\\theta_{1} \\right)}\\\\0 & \\cos{\\left(\\phi_{1} \\right)} & \\sin{\\left(\\phi_{1} \\right)} \\cos{\\left(\\theta_{1} \\right)}\\\\0 & - \\sin{\\left(\\phi_{1} \\right)} & \\cos{\\left(\\phi_{1} \\right)} \\cos{\\left(\\theta_{1} \\right)}\\end{matrix}\\right]$"
      ],
      "text/plain": [
       "Matrix([\n",
       "[1,              0,              -sin(\\theta_{1})],\n",
       "[0,  cos(\\phi_{1}), sin(\\phi_{1})*cos(\\theta_{1})],\n",
       "[0, -sin(\\phi_{1}), cos(\\phi_{1})*cos(\\theta_{1})]])"
      ]
     },
     "metadata": {},
     "output_type": "display_data"
    }
   ],
   "source": [
    "# COPIED FROM RTAO pendulum, IN PROGRESS\n",
    "\n",
    "def get_RE(phi, th, psi, order): # generate rotation matrix\n",
    "    o1, o2, o3 = order\n",
    "    \n",
    "    # Define rotation matrices for each axis of rotation\n",
    "    Rx = sym.Matrix([[1,            0,             0],\n",
    "                     [0, sym.cos(phi), -sym.sin(phi)],\n",
    "                     [0, sym.sin(phi),  sym.cos(phi)]])\n",
    "\n",
    "    Ry = sym.Matrix([[ sym.cos(th), 0, sym.sin(th)],\n",
    "                     [           0, 1,           0],\n",
    "                     [-sym.sin(th), 0, sym.cos(th)]])\n",
    "\n",
    "    Rz = sym.Matrix([[sym.cos(psi), -sym.sin(psi), 0],\n",
    "                     [sym.sin(psi),  sym.cos(psi), 0],\n",
    "                     [           0,             0, 1]])\n",
    "    \n",
    "    # map the rotation matrices to their axes\n",
    "    Rdict = {'x': Rx,\n",
    "             'y': Ry,\n",
    "             'z': Rz}\n",
    "    \n",
    "    # Define rotation matrices for moving between the body frame and each of the previous frames\n",
    "    R32 = Rdict[o3]     # undo last 1 rotation\n",
    "    R31 = Rdict[o2]*R32 # undo last 2 rotations\n",
    "    R30 = Rdict[o1]*R31 # undo  all 3 rotations\n",
    "    \n",
    "    # Euler Angle Rates\n",
    "    \n",
    "    # Define axis vectors in their own frames\n",
    "    axes = {'x': sym.Matrix([[1],[0],[0]]),\n",
    "            'y': sym.Matrix([[0],[1],[0]]),\n",
    "            'z': sym.Matrix([[0],[0],[1]])}\n",
    "    \n",
    "    # Transform these axes so that they are all in the BODY frame *not inertial\n",
    "    E_cols = {o3: R32.transpose()*axes[o3],\n",
    "              o2: R31.transpose()*axes[o2],\n",
    "              o1: R30.transpose()*axes[o1]}\n",
    "    \n",
    "    # Rearrange axes into the order x,y,z (so that this matrix can multiply by vectors of the form x,y,z)\n",
    "    E = sym.Matrix.hstack(E_cols['x'], E_cols['y'], E_cols['z']) #hstack -> horizontally stack\n",
    "    # E = sym.Matrix([E_cols['x'], E_cols['y'], E_cols['z']]).reshape(3,3).transpose() # does the same thing as above\n",
    "    \n",
    "    return [R30, E] # return 1) the rotation from body to inertial, and 2) the euler rates matrix"
   ]
  },
  {
   "cell_type": "code",
   "execution_count": null,
   "metadata": {},
   "outputs": [],
   "source": [
    "# positions of each link in their own reference frames\n",
    "rCOMs_0 = []\n",
    "rEnds_0 = [sym.Matrix([[X0],[Y0],[Z0]])] # positions of the tops/bottoms of links\n",
    "\n",
    "R, E = [0]*nlinks, [0]*nlinks\n",
    "\n",
    "for i in range(nlinks): # enumerate returns the index and the value at that index\n",
    "    R[i], E[i] = get_RE(phi[i], th[i], psi[i], order)\n",
    "    \n",
    "    rLen_n = sym.Matrix([[0],[0],[-l[i]]])\n",
    "    rTop_0 = rEnds_0[i]\n",
    "\n",
    "    rCOMs_0.append( R[i]*rLen_n*d[i] + rTop_0)\n",
    "    rEnds_0.append( R[i]*rLen_n      + rTop_0) # indexing: top of link matches COM in rCOM_0. extra row in rEnds_0 = bottom of nth link\n",
    "\n"
   ]
  },
  {
   "cell_type": "code",
   "execution_count": 38,
   "metadata": {},
   "outputs": [
    {
     "name": "stdout",
     "output_type": "stream",
     "text": [
      "1 1\n",
      "2 2\n",
      "3 6\n",
      "4 48\n",
      "5 2880\n"
     ]
    }
   ],
   "source": [
    "c = [1]*5\n",
    "for i in range(5):\n",
    "    c[i] = i+1\n",
    "    print(c[i], end=' ')\n",
    "    c[i] = np.prod([c[j] for j in range(i+1)])\n",
    "    print(c[i])"
   ]
  },
  {
   "cell_type": "markdown",
   "metadata": {},
   "source": [
    "## **Spherical Pendulum**"
   ]
  },
  {
   "cell_type": "markdown",
   "metadata": {},
   "source": [
    "## **Hinge Pendulum**"
   ]
  }
 ],
 "metadata": {
  "kernelspec": {
   "display_name": "Python 3",
   "language": "python",
   "name": "python3"
  },
  "language_info": {
   "codemirror_mode": {
    "name": "ipython",
    "version": 3
   },
   "file_extension": ".py",
   "mimetype": "text/x-python",
   "name": "python",
   "nbconvert_exporter": "python",
   "pygments_lexer": "ipython3",
   "version": "3.8.5"
  }
 },
 "nbformat": 4,
 "nbformat_minor": 4
}
