{
 "cells": [
  {
   "cell_type": "markdown",
   "metadata": {},
   "source": [
    "**{DEV}\\[TODO\\]**\n",
    "- everything"
   ]
  },
  {
   "cell_type": "markdown",
   "metadata": {},
   "source": [
    "---\n",
    "### Chapter 1: System Modelling\n",
    "---\n",
    "# **Tutorial 1.d: Relative vs Absolute Orientations in 3D**\n",
    "**Aim:** To compare the performance of simulation when using relative vs absolute orientations in three dimensions\n",
    "\n",
    "We've already established how to set up the modelling code, and compared relative vs absolute orientations in 2D. Now we will do the same in 3D\n",
    "\n",
    "## **Contents**:\n",
    "* [3D Modelling](#3D-Modelling)\n",
    "* [Spherical Pendulum](#Spherical-Pendulum)\n",
    "* [Hinge Pendulum](#Hinge-Pendulum)"
   ]
  }
 ],
 "metadata": {
  "kernelspec": {
   "display_name": "Python 3",
   "language": "python",
   "name": "python3"
  },
  "language_info": {
   "codemirror_mode": {
    "name": "ipython",
    "version": 3
   },
   "file_extension": ".py",
   "mimetype": "text/x-python",
   "name": "python",
   "nbconvert_exporter": "python",
   "pygments_lexer": "ipython3",
   "version": "3.8.5"
  }
 },
 "nbformat": 4,
 "nbformat_minor": 4
}
