{
 "cells": [
  {
   "cell_type": "markdown",
   "metadata": {},
   "source": [
    "**{DEV}\\[TODO\\]**\n",
    "- everything\n",
    "- QUERY: n-link or double?"
   ]
  },
  {
   "cell_type": "markdown",
   "metadata": {},
   "source": [
    "---\n",
    "### Chapter 1: System Modelling\n",
    "---\n",
    "# **Tutorial 1.d: Relative vs Absolute Orientations in 3D**\n",
    "**Aim:** To compare the performance of simulation when using relative vs absolute orientations in three dimensions\n",
    "\n",
    "We've already established how to set up the modelling code, and compared relative vs absolute orientations in 2D. Now we will do the same in 3D\n",
    "\n",
    "### **Contents**:\n",
    "* [3D Modelling](#3D-Modelling)\n",
    "* [Spherical Pendulum](#Spherical-Pendulum)\n",
    "* [Hinge Pendulum](#Hinge-Pendulum)"
   ]
  },
  {
   "cell_type": "markdown",
   "metadata": {},
   "source": [
    "## **3D Modelling**"
   ]
  },
  {
   "cell_type": "code",
   "execution_count": 25,
   "metadata": {},
   "outputs": [
    {
     "data": {
      "text/html": [
       "<style>.jp-CodeCell.jp-mod-outputsScrolled .jp-Cell-outputArea { max-height: 32em; }</style>"
      ],
      "text/plain": [
       "<IPython.core.display.HTML object>"
      ]
     },
     "metadata": {},
     "output_type": "display_data"
    }
   ],
   "source": [
    "# import libraries\n",
    "import sympy as sym\n",
    "import numpy as np\n",
    "import time # for benchmarking different models\n",
    "\n",
    "from IPython.display import display, HTML #for pretty printing\n",
    "display(HTML(\"<style>.jp-CodeCell.jp-mod-outputsScrolled .jp-Cell-outputArea { max-height: 32em; }</style>\"))\n",
    "\n",
    "# define time-logging function for benchmarking\n",
    "def log_time(t_start=None, msg=\"\"):\n",
    "    t_end = time.perf_counter()\n",
    "    if t_start == None:\n",
    "        if msg == \"\": print(\"Timer initialized\")\n",
    "        else: print(msg)\n",
    "    else: print(msg + f\": {t_end - t_start:.6f} sec\")\n",
    "    return t_end\n",
    "\n",
    "# create symbolic variables - Generalized for n-link\n",
    "nlinks = 2\n",
    "links = np.arange(nlinks)\n",
    "\n",
    "# --------------------------------------------------------------------------------------------------------------\n",
    "\n",
    "# system parameters\n",
    "g = sym.symbols('g')\n",
    "\n",
    "m  = [sym.symbols( 'm_{%s}' %(i+1)) for i in links] # mass of links\n",
    "l  = [sym.symbols( 'l_{%s}' %(i+1)) for i in links] # length of links\n",
    "\n",
    "I_psi = [sym.symbols('I_{\\\\psi_{%s}}'   %(i+1)) for i in links] # moment of intertia of links\n",
    "I_th  = [sym.symbols('I_{\\\\theta_{%s}}' %(i+1)) for i in links]\n",
    "I_phi = [sym.symbols('I_{\\\\phi_{%s}}'   %(i+1)) for i in links]\n",
    "\n",
    "# generalized coordinates\n",
    "X0, Y0, Z0 = sym.symbols(['X_{0}','Y_{0}', 'Z_{0}']) # fixed position of first link\n",
    "\n",
    "psi   = [sym.symbols(       '\\\\psi_{%s}' %(i+1)) for i in links] #positions\n",
    "dpsi  = [sym.symbols( '\\dot{\\\\psi}_{%s}' %(i+1)) for i in links] #velocities\n",
    "ddpsi = [sym.symbols('\\ddot{\\\\psi}_{%s}' %(i+1)) for i in links] #accelerations\n",
    "\n",
    "th   = [sym.symbols(       '\\\\theta_{%s}' %(i+1)) for i in links] #positions\n",
    "dth  = [sym.symbols( '\\dot{\\\\theta}_{%s}' %(i+1)) for i in links] #velocities\n",
    "ddth = [sym.symbols('\\ddot{\\\\theta}_{%s}' %(i+1)) for i in links] #accelerations\n",
    "\n",
    "phi   = [sym.symbols(       '\\\\phi_{%s}' %(i+1)) for i in links] #positions\n",
    "dphi  = [sym.symbols( '\\dot{\\\\phi}_{%s}' %(i+1)) for i in links] #velocities\n",
    "ddphi = [sym.symbols('\\ddot{\\\\phi}_{%s}' %(i+1)) for i in links] #accelerations\n",
    "\n",
    "q   = sym.Matrix([[  psi[i],  th[i],  phi[i]] for i in links])\n",
    "dq  = sym.Matrix([[ dpsi[i], dth[i], dphi[i]] for i in links])\n",
    "ddq = sym.Matrix([[ddpsi[i],ddth[i],ddphi[i]] for i in links])\n",
    "\n",
    "q   =   q.reshape(q.rows * q.cols, 1)\n",
    "dq  =  dq.reshape(q.rows * q.cols, 1)\n",
    "ddq = ddq.reshape(q.rows * q.cols, 1)\n",
    "\n",
    "\n",
    "# --------------------------------------------------------------------------------------------------------------\n",
    "\n",
    "# STEP 1: system space coordinates written in terms of the generalised coordinates\n",
    "\n",
    "# helper functions\n",
    "# the 3D system space coordinates are [x;y;z;psi;th;phi], so we need 3 rotation functions that can work with this\n",
    "def MatAugment(R1, R2):\n",
    "    # takes in a 3D rotation matrix and augments it to form a 6x6 matrix\n",
    "    empty_col = sym.Matrix([0,0,0])\n",
    "    R = R1.col_insert(3, empty_col)\n",
    "    R = R1.col_insert(4, empty_col)\n",
    "    R = R1.col_insert(5, empty_col)\n",
    "    R = R1.row_insert(3, sym.Matrix([0,0,0,R2[0,0],R2[0,1],R2[0,2]]).T)\n",
    "    R = R1.row_insert(4, sym.Matrix([0,0,0,R2[1,0],R2[1,1],R2[1,2]]).T)\n",
    "    R = R1.row_insert(5, sym.Matrix([0,0,0,R2[2,0],R2[2,1],R2[2,2]]).T)\n",
    "    return R\n",
    "\n",
    "def Rotate(v, psi, th, phi, order):\n",
    "    Rx = sym.Matrix([[1,            0,             0],\n",
    "                     [0, sym.cos(phi), -sym.sin(phi)],\n",
    "                     [0, sym.sin(phi),  sym.cos(phi)]])\n",
    "    \n",
    "    Ry = sym.Matrix([[  sym.cos(th), 0,  sym.sin(th)],\n",
    "                     [            0, 1,            0],\n",
    "                     [ -sym.sin(th), 0,  sym.cos(th)]])\n",
    "    \n",
    "    Rz = sym.Matrix([[sym.cos(psi), -sym.sin(psi), 0],\n",
    "                     [sym.sin(psi),  sym.cos(psi), 0],\n",
    "                     [           0,             0, 1]])\n",
    "    \n",
    "#     Rx = MatAugment(Rx)\n",
    "#     Ry = MatAugment(Ry)\n",
    "#     Rz = MatAugment(Rz)\n",
    "    \n",
    "    S = sym.Matrix([[0],[0],[0]])\n",
    "    return R*v + S"
   ]
  },
  {
   "cell_type": "code",
   "execution_count": 17,
   "metadata": {},
   "outputs": [],
   "source": [
    "def MatAugment(R1, R2):\n",
    "    # takes in a 3D rotation matrix and augments it to form a 6x6 matrix\n",
    "    empty_col = sym.Matrix([0,0,0])\n",
    "    R = R1.col_insert(3, empty_col)\n",
    "    R = R.col_insert(4, empty_col)\n",
    "    R = R.col_insert(5, empty_col)\n",
    "    R = R.row_insert(3, sym.Matrix([0,0,0,R2[0,0],R2[0,1],R2[0,2]]).T)\n",
    "    R = R.row_insert(4, sym.Matrix([0,0,0,R2[1,0],R2[1,1],R2[1,2]]).T)\n",
    "    R = R.row_insert(5, sym.Matrix([0,0,0,R2[2,0],R2[2,1],R2[2,2]]).T)\n",
    "    return R\n",
    "\n",
    "Rx = sym.Matrix([[1,               0,                0],\n",
    "                 [0, sym.cos(phi[0]), -sym.sin(phi[0])],\n",
    "                 [0, sym.sin(phi[0]),  sym.cos(phi[0])]])\n",
    "\n",
    "Ry = sym.Matrix([[  sym.cos(th[0]), 0,  sym.sin(th[0])],\n",
    "                 [               0, 1,            0],\n",
    "                 [ -sym.sin(th[0]), 0,  sym.cos(th[0])]])\n",
    "\n",
    "Rz = sym.Matrix([[sym.cos(psi[0]), -sym.sin(psi[0]), 0],\n",
    "                 [sym.sin(psi[0]),  sym.cos(psi[0]), 0],\n",
    "                 [              0,                0, 1]])\n",
    "\n",
    "# display(MatAugment(Rx,Rz))"
   ]
  },
  {
   "cell_type": "markdown",
   "metadata": {},
   "source": [
    "**BELOW WON'T WORK. Why? Rotations do not simply add on like in 2D**"
   ]
  },
  {
   "cell_type": "code",
   "execution_count": null,
   "metadata": {},
   "outputs": [],
   "source": [
    "# helper functions\n",
    "# the 3D system space coordinates are [x;y;z;psi;th;phi], so we need 3 rotation functions that can work with this\n",
    "def MatAugment(R):\n",
    "    # takes in a 3D rotation matrix and augments it to form a 6x6 matrix\n",
    "    empty_col = sym.Matrix([0,0,0])\n",
    "    R = R.col_insert(3, empty_col)\n",
    "    R = R.col_insert(4, empty_col)\n",
    "    R = R.col_insert(5, empty_col)\n",
    "    R = R.row_insert(3, sym.Matrix([0,0,0,1,0,0]).T)\n",
    "    R = R.row_insert(4, sym.Matrix([0,0,0,0,1,0]).T)\n",
    "    R = R.row_insert(5, sym.Matrix([0,0,0,0,0,1]).T)\n",
    "    return R\n",
    "def RotX(v, phi):\n",
    "    R = sym.Matrix([[1,            0,             0],\n",
    "                    [0, sym.cos(phi), -sym.sin(phi)],\n",
    "                    [0, sym.sin(phi),  sym.cos(phi)]])\n",
    "    R = MatAugment(R)\n",
    "    S = sym.Matrix([[0],[0],[0],[0],[0],[phi]])\n",
    "    return R*v + S\n",
    "def RotY(v, th):\n",
    "    R = sym.Matrix([[  sym.cos(th), 0,  sym.sin(th)],\n",
    "                    [            0, 1,            0],\n",
    "                    [ -sym.sin(th), 0,  sym.cos(th)]])\n",
    "    R = MatAugment(R)\n",
    "    S = sym.Matrix([[0],[0],[0],[0],[th],[0]])\n",
    "    return R*v + S\n",
    "def RotZ(v, psi):\n",
    "    R = sym.Matrix([[sym.cos(psi), -sym.sin(psi), 0],\n",
    "                    [sym.sin(psi),  sym.cos(psi), 0],\n",
    "                    [           0,             0, 1]])\n",
    "    R = MatAugment(R)\n",
    "    S = sym.Matrix([[0],[0],[0],[psi],[0],[0]])\n",
    "    return R*v + S"
   ]
  },
  {
   "cell_type": "markdown",
   "metadata": {},
   "source": [
    "## **Spherical Pendulum**"
   ]
  },
  {
   "cell_type": "markdown",
   "metadata": {},
   "source": [
    "## **Hinge Pendulum**"
   ]
  }
 ],
 "metadata": {
  "kernelspec": {
   "display_name": "Python 3",
   "language": "python",
   "name": "python3"
  },
  "language_info": {
   "codemirror_mode": {
    "name": "ipython",
    "version": 3
   },
   "file_extension": ".py",
   "mimetype": "text/x-python",
   "name": "python",
   "nbconvert_exporter": "python",
   "pygments_lexer": "ipython3",
   "version": "3.8.5"
  }
 },
 "nbformat": 4,
 "nbformat_minor": 4
}
