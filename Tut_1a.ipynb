{
 "cells": [
  {
   "cell_type": "markdown",
   "metadata": {},
   "source": [
    "### Chapter 1: System Modelling\n",
    "---\n",
    "# **Tutorial 1.a: Lagrange Mechanics of a Pendulum**\n",
    "**Aim:** To derive the dynamic model of a double pendulum using the Lagrange method using Python's symbolic toolbox.\n",
    "\n",
    "**Further watching:** <a href=\"https://www.youtube.com/watch?v=zhk9xLjrmi4\"> MIT OCW lecture on Lagrange mechanics with examples. </a> {DEVNOTE: keep current attached resource, or is there an updated one?}\n",
    "\n",
    "## **Contents**:\n",
    "* [Chain Systems](#Chain-Systems)\n",
    "* [Coordinate Frames](#Coordinate-Frames)\n",
    "* [Lagrange Mechanics](#Lagrange-Mechanics)\n",
    "* [Simulation](#Simulation)"
   ]
  },
  {
   "cell_type": "markdown",
   "metadata": {},
   "source": [
    "# **Chain Systems**\n",
    "We model robots as **chains** of rigid **links**. If the links follow one after the other, it's a serial chain (e.g. upper arm -> forearm). If there are branches where more than one *child* link follows from a single *parent* link, it's a parallel chain (e.g. torso -> left thigh OR right thigh).\n",
    "\n",
    "Most of the systems we model will be open chains, i.e. they don't involve any loops. If two parallel branches connect together, they form a closed chain (e.g. a four bar linkage system, like Baleka's leg).\n",
    "\n",
    "<img src = \"chain2.png\" width = \"600\">\n",
    "\n",
    "### **Terminology:**\n",
    "- **Chain** - a group of links that are attached to each other\n",
    "- **Link** - a single rigid body within a chain system\n",
    "- **Serial Chain** - a chain where each link attaches to the previous link\n",
    "- **Parallel Chain** - a chain where multiple child links originate froma single parent link\n",
    "- **Closed Chain** - parallel chains that join at both ends, forming a loop\n",
    "- **Open Chain** - parallel chains that only join at the parent link"
   ]
  },
  {
   "cell_type": "markdown",
   "metadata": {},
   "source": [
    "# **Coordinate Frames**\n",
    "A coordinate *frame* consists of an origin and three perpendicular axes (\\*if working in 3D). {DEVNOTE: explain coords in 2D as well}\n",
    "\n",
    "In order to completely describe the location of an individual link in 3D space, you need six coordinates: the position $x,y,z$, and the orientation $\\alpha,\\beta,\\gamma$ (the roll, pitch and yaw angles about these axes).\n",
    "\n",
    "The **system space** is the set of all $6n$ coordinates you need to completely define the *pose* of an $n$-link system, when the position of all links is described *absolutely* (i.e. relative to the fixed world frame). This is a *maximal* coordinate system, since it needs the maximum number of coordinates.\n",
    "\n",
    "An alternative approach - the one used with Lagrange mechanics - is to use a smaller system of *generalized coordinates*. For chain systems, these typically correspond to the **joint space** of the system: the positions of all the joints between links. These are relative coordinates: rather than describing the links in the world frame, the position of the next link is defined from the previous link.\n",
    "\n",
    "<img src = \"coordinate_systems.png\" width = \"400\">\n",
    "\n",
    "The minimum number of generalized coordinates you need to *completely and uniquely* describe the pose gives the number of *degrees of freedom (DOFs)* of the system.\n",
    "\n",
    "## The Double Pendulum {DEVNOTE: single instead, or keep double??}\n",
    "We'll be generating the dynamic model for the 2D double pendulum shown in the previous image.\n",
    "\n",
    "It is a 2 DOF system, since it can be defined completely by the two joint angles, $\\theta_1$ and $\\theta_2$. (This is a *fixed base* system, since the first link is constrained such that it can only rotate. If it was a *floating base* system, where this link was free to move in all directions, we'd need an extra 2 DOFs - $x$ and $y$ - to completely describe the pose.)\n",
    "\n",
    "Our generalized coordinate vector is therefore:\n",
    "$$\\mathbf{q} = \\begin{pmatrix} \\theta_1 \\\\ \\theta_2 \\end{pmatrix}$$"
   ]
  },
  {
   "cell_type": "code",
   "execution_count": null,
   "metadata": {},
   "outputs": [],
   "source": [
    "# import libraries\n",
    "import sympy as sym\n",
    "import numpy as np\n",
    "\n",
    "from IPython.display import display #for pretty printing\n",
    "# display(HTML(\"<style>.jp-CodeCell.jp-mod-outputsScrolled .jp-Cell-outputArea { max-height: 32em; }</style>\")) #ignore this, it'll be useful in tut 3"
   ]
  },
  {
   "cell_type": "code",
   "execution_count": null,
   "metadata": {},
   "outputs": [],
   "source": [
    "# create symbolic variables\n",
    "\n",
    "# system parameters\n",
    "g = sym.symbols('g')\n",
    "m1 ,  m2 = sym.symbols([ 'm1', 'm2']) # mass of links\n",
    "l1 ,  l2 = sym.symbols([ 'l1', 'l2']) # length of links\n",
    "In1, In2 = sym.symbols(['In1','In2']) # moment of intertia of links\n",
    "\n",
    "# generalized coordinates\n",
    "# {DEVNOTE: th1,dth1,ddth1 is better for expanding the system later, but th1,th2 .. dth1,dth2 etc is better for explaining pos,vel,acc}\n",
    "X0, Y0 = sym.symbols(['X0','Y0']) # fixed position of first link\n",
    "# #position, velocity, acceleration\n",
    "# th1,dth1,ddth1 = sym.symbols(['\\\\theta_{1}','\\dot{\\\\theta}_{1}','\\ddot{\\\\theta}_{1}']) # link 1\n",
    "# th2,dth2,ddth2 = sym.symbols(['\\\\theta_{2}','\\dot{\\\\theta}_{2}','\\ddot{\\\\theta}_{2}']) # link 2\n",
    "\n",
    "th1  ,  th2 = sym.symbols([       '\\\\theta_{1}',       '\\\\theta_{2}']) #position\n",
    "dth1 , dth2 = sym.symbols([ '\\dot{\\\\theta}_{1}', '\\dot{\\\\theta}_{2}']) #velocity\n",
    "ddth1,ddth2 = sym.symbols(['\\ddot{\\\\theta}_{1}','\\ddot{\\\\theta}_{2}']) #acceleration\n",
    "\n",
    "q   = sym.Matrix([  [th1],  [th2]]) #group into matrices\n",
    "dq  = sym.Matrix([ [dth1], [dth2]])\n",
    "ddq = sym.Matrix([[ddth1],[ddth2]])\n",
    "\n",
    "display(ddq) #display prints it as cool latex stuff"
   ]
  },
  {
   "cell_type": "markdown",
   "metadata": {},
   "source": [
    "**NOTE:** Above, it was stated that in 3D, you need 6 coordinates to completely describe the location of a link. In 2D, you need 3: the position $x,y$, and the orientation $\\theta$. In other words, the 2D **system space** comprises $3n$ coordinates for an n-link system.\n",
    "\n",
    "{DEVNOTE: rotations: cast to 2D and recast to 3D, or use my method?}\n",
    "{DEVNOTE: functions, three options shown below}"
   ]
  },
  {
   "cell_type": "code",
   "execution_count": null,
   "metadata": {},
   "outputs": [],
   "source": [
    "# STEP 1: system space coordinates written in terms of generalised coordinates\n",
    "import sympy as sym\n",
    "def Rotate(v, th):\n",
    "    # the 2D system space coordinates are [x;y;th], so we need a rotation function that can work with this\n",
    "    R = sym.Matrix([[sym.cos(th), -sym.sin(th), 0],\n",
    "                    [sym.sin(th),  sym.cos(th), 0],\n",
    "                    [          0,            0, 1]]) # rotation matrix, augmented because of the theta element of the vector\n",
    "    S = sym.Matrix([[0],[0],[th]]) # angle of rotation\n",
    "    return R*v + S # coordinates after rotation\n",
    "\n",
    "def Offset(v1, v2):\n",
    "    # this function is for applying a position-only offset (preserves the angle)\n",
    "    vector_mask = sym.Matrix([[1],[1],[0]]) # gets rid of angle component of vector when multiplied elementwise\n",
    "    return v1 + v2.multiply_elementwise(vector_mask)\n",
    "\n",
    "# positions of each link in their own reference frames\n",
    "r0 = sym.Matrix([[X0],[Y0],[0]] # position of the origin of the first link\n",
    "r1_1 = sym.Matrix([[0],[-0.5*l1],[0]]) # read as: position r1, in frame 1\n",
    "r2_2 = sym.Matrix([[0],[-0.5*l2],[0]]) # both point vertically down, with centres of mass halfway down the total length of the link\n",
    "\n",
    "# positions of each link, moved into the inertial frame\n",
    "r1_0 = Offset(Rotate(r1_1, th1), r0))\n",
    "\n",
    "r2_1 = Offset(Rotate(r2_2, th2), r1_1)\n",
    "r2_0 = Offset(Rotate(r2_1, th1), r0)"
   ]
  },
  {
   "cell_type": "code",
   "execution_count": null,
   "metadata": {},
   "outputs": [],
   "source": [
    "# STEP 1: system space coordinates written in terms of generalised coordinates\n",
    "import sympy as sym\n",
    "def Rotate(v, th):\n",
    "    # the 2D system space coordinates are [x;y;th], so we need a rotation function that can work with this\n",
    "    R = sym.Matrix([[sym.cos(th), -sym.sin(th), 0],\n",
    "                    [sym.sin(th),  sym.cos(th), 0],\n",
    "                    [          0,            0, 1]]) # rotation matrix, augmented because of the theta element of the vector\n",
    "    S = sym.Matrix([[0],[0],[th]]) # angle of rotation\n",
    "    return R*v + S # coordinates after rotation\n",
    "\n",
    "def get_XY(v):\n",
    "    # this function is for applying a position-only offset (preserves the angle)\n",
    "    vector_mask = sym.Matrix([[1],[1],[0]]) # gets rid of angle component of vector when multiplied elementwise\n",
    "    return v.multiply_elementwise(vector_mask)\n",
    "\n",
    "def frame_shift(v, offset_angle, offset_position):\n",
    "    return Rotate(v, offset_angle) + get_XY(offset_position)\n",
    "\n",
    "# positions of each link in their own reference frames\n",
    "r0 = sym.Matrix([[X0],[Y0],[0]] # position of the origin of the first link\n",
    "r1_1 = sym.Matrix([[0],[-0.5*l1],[0]]) # read as: position r1, in frame 1\n",
    "r2_2 = sym.Matrix([[0],[-0.5*l2],[0]]) # both point vertically down, with centres of mass halfway down the total length of the link\n",
    "\n",
    "# positions of each link, moved into the inertial frame\n",
    "r1_0 = frame_shift(r1_1, th1, r0)\n",
    "\n",
    "r2_1 = frame_shift(r2_2, th2, r1_1)\n",
    "r2_0 = frame_shift(r2_1, th1, r0)"
   ]
  },
  {
   "cell_type": "code",
   "execution_count": null,
   "metadata": {},
   "outputs": [],
   "source": [
    "# STEP 1: system space coordinates written in terms of generalised coordinates\n",
    "import sympy as sym\n",
    "def Rotate(v, th):\n",
    "    # the 2D system space coordinates are [x;y;th], so we need a rotation function that can work with this\n",
    "    R = sym.Matrix([[sym.cos(th), -sym.sin(th), 0],\n",
    "                    [sym.sin(th),  sym.cos(th), 0],\n",
    "                    [          0,            0, 1]]) # rotation matrix, augmented because of the theta element of the vector\n",
    "    S = sym.Matrix([[0],[0],[th]]) # angle of rotation\n",
    "    return R*v + S # coordinates after rotation\n",
    "\n",
    "def getXY(v):\n",
    "    # this function is for applying a position-only offset (preserves the angle)\n",
    "    vector_mask = sym.Matrix([[1],[1],[0]]) # gets rid of angle component of vector when multiplied elementwise\n",
    "    return v.multiply_elementwise(vector_mask)\n",
    "\n",
    "# positions of each link in their own reference frames\n",
    "r0 = sym.Matrix([[X0],[Y0],[0]] # position of the origin of the first link\n",
    "r1_1 = sym.Matrix([[0],[-0.5*l1],[0]]) # read as: position r1, in frame 1\n",
    "r2_2 = sym.Matrix([[0],[-0.5*l2],[0]]) # both point vertically down, with centres of mass halfway down the total length of the link\n",
    "\n",
    "# positions of each link, moved into the inertial frame\n",
    "r1_0 = Rotate(r1_1, th1) + getXY(r0)\n",
    "\n",
    "r2_1 = Rotate(r2_2, th2) + getXY(r1_1)\n",
    "r2_0 = Rotate(r2_1, th1) + getXY(r0)"
   ]
  },
  {
   "cell_type": "markdown",
   "metadata": {},
   "source": [
    "# **Lagrange Mechanics**\n"
   ]
  },
  {
   "cell_type": "markdown",
   "metadata": {},
   "source": [
    "# **Simulation**\n"
   ]
  }
 ],
 "metadata": {
  "kernelspec": {
   "display_name": "Python 3",
   "language": "python",
   "name": "python3"
  },
  "language_info": {
   "codemirror_mode": {
    "name": "ipython",
    "version": 3
   },
   "file_extension": ".py",
   "mimetype": "text/x-python",
   "name": "python",
   "nbconvert_exporter": "python",
   "pygments_lexer": "ipython3",
   "version": "3.8.5"
  }
 },
 "nbformat": 4,
 "nbformat_minor": 4
}
